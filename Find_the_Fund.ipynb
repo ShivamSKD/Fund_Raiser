{
 "cells": [
  {
   "cell_type": "code",
   "execution_count": 254,
   "metadata": {},
   "outputs": [],
   "source": [
    "import pandas as pd\n",
    "import numpy as np\n",
    "import math"
   ]
  },
  {
   "cell_type": "code",
   "execution_count": 255,
   "metadata": {},
   "outputs": [
    {
     "name": "stdout",
     "output_type": "stream",
     "text": [
      "(40213, 27)\n"
     ]
    },
    {
     "name": "stderr",
     "output_type": "stream",
     "text": [
      "/home/sammynerd/anaconda3/lib/python3.6/site-packages/IPython/core/interactiveshell.py:3020: DtypeWarning: Columns (10,11,14,16,17,20,21) have mixed types. Specify dtype option on import or set low_memory=False.\n",
      "  interactivity=interactivity, compiler=compiler, result=result)\n"
     ]
    },
    {
     "data": {
      "text/html": [
       "<div>\n",
       "<style scoped>\n",
       "    .dataframe tbody tr th:only-of-type {\n",
       "        vertical-align: middle;\n",
       "    }\n",
       "\n",
       "    .dataframe tbody tr th {\n",
       "        vertical-align: top;\n",
       "    }\n",
       "\n",
       "    .dataframe thead th {\n",
       "        text-align: right;\n",
       "    }\n",
       "</style>\n",
       "<table border=\"1\" class=\"dataframe\">\n",
       "  <thead>\n",
       "    <tr style=\"text-align: right;\">\n",
       "      <th></th>\n",
       "      <th>ID</th>\n",
       "      <th>comp_name</th>\n",
       "      <th>website</th>\n",
       "      <th>op_status</th>\n",
       "      <th>domain</th>\n",
       "      <th>founded_on</th>\n",
       "      <th>hq_country_code</th>\n",
       "      <th>hq_state_code</th>\n",
       "      <th>hq_region</th>\n",
       "      <th>hq_city</th>\n",
       "      <th>...</th>\n",
       "      <th>last_funding_utc</th>\n",
       "      <th>successful_investment</th>\n",
       "      <th>Unnamed: 19</th>\n",
       "      <th>Unnamed: 20</th>\n",
       "      <th>Unnamed: 21</th>\n",
       "      <th>Unnamed: 22</th>\n",
       "      <th>Unnamed: 23</th>\n",
       "      <th>Unnamed: 24</th>\n",
       "      <th>Unnamed: 25</th>\n",
       "      <th>Unnamed: 26</th>\n",
       "    </tr>\n",
       "  </thead>\n",
       "  <tbody>\n",
       "    <tr>\n",
       "      <th>0</th>\n",
       "      <td>0</td>\n",
       "      <td>Nanotecture</td>\n",
       "      <td>http://www.nanotecture.co.uk</td>\n",
       "      <td>closed</td>\n",
       "      <td>Nanotechnology</td>\n",
       "      <td>NaN</td>\n",
       "      <td>GBR</td>\n",
       "      <td>M4</td>\n",
       "      <td>London</td>\n",
       "      <td>Southampton</td>\n",
       "      <td>...</td>\n",
       "      <td>12907</td>\n",
       "      <td>0</td>\n",
       "      <td>NaN</td>\n",
       "      <td>NaN</td>\n",
       "      <td>NaN</td>\n",
       "      <td>NaN</td>\n",
       "      <td>NaN</td>\n",
       "      <td>NaN</td>\n",
       "      <td>NaN</td>\n",
       "      <td>NaN</td>\n",
       "    </tr>\n",
       "    <tr>\n",
       "      <th>1</th>\n",
       "      <td>1</td>\n",
       "      <td>Sybari</td>\n",
       "      <td>http://www.sybari.com</td>\n",
       "      <td>acquired</td>\n",
       "      <td>Email|Security|Software</td>\n",
       "      <td>1995-01-01</td>\n",
       "      <td>USA</td>\n",
       "      <td>NY</td>\n",
       "      <td>Long Island</td>\n",
       "      <td>East Northport</td>\n",
       "      <td>...</td>\n",
       "      <td>11411</td>\n",
       "      <td>1</td>\n",
       "      <td>NaN</td>\n",
       "      <td>NaN</td>\n",
       "      <td>NaN</td>\n",
       "      <td>NaN</td>\n",
       "      <td>NaN</td>\n",
       "      <td>NaN</td>\n",
       "      <td>NaN</td>\n",
       "      <td>NaN</td>\n",
       "    </tr>\n",
       "  </tbody>\n",
       "</table>\n",
       "<p>2 rows × 27 columns</p>\n",
       "</div>"
      ],
      "text/plain": [
       "   ID    comp_name                       website op_status  \\\n",
       "0   0  Nanotecture  http://www.nanotecture.co.uk    closed   \n",
       "1   1       Sybari         http://www.sybari.com  acquired   \n",
       "\n",
       "                    domain  founded_on hq_country_code hq_state_code  \\\n",
       "0           Nanotechnology         NaN             GBR            M4   \n",
       "1  Email|Security|Software  1995-01-01             USA            NY   \n",
       "\n",
       "     hq_region         hq_city  ... last_funding_utc successful_investment  \\\n",
       "0       London     Southampton  ...            12907                     0   \n",
       "1  Long Island  East Northport  ...            11411                     1   \n",
       "\n",
       "  Unnamed: 19 Unnamed: 20 Unnamed: 21  Unnamed: 22 Unnamed: 23 Unnamed: 24  \\\n",
       "0         NaN         NaN         NaN          NaN         NaN         NaN   \n",
       "1         NaN         NaN         NaN          NaN         NaN         NaN   \n",
       "\n",
       "   Unnamed: 25  Unnamed: 26  \n",
       "0          NaN          NaN  \n",
       "1          NaN          NaN  \n",
       "\n",
       "[2 rows x 27 columns]"
      ]
     },
     "execution_count": 255,
     "metadata": {},
     "output_type": "execute_result"
    }
   ],
   "source": [
    "df = pd.read_csv('train.csv')\n",
    "print(df.shape)\n",
    "df.head(2)"
   ]
  },
  {
   "cell_type": "code",
   "execution_count": 256,
   "metadata": {},
   "outputs": [
    {
     "name": "stdout",
     "output_type": "stream",
     "text": [
      "(4469, 19)\n"
     ]
    },
    {
     "data": {
      "text/html": [
       "<div>\n",
       "<style scoped>\n",
       "    .dataframe tbody tr th:only-of-type {\n",
       "        vertical-align: middle;\n",
       "    }\n",
       "\n",
       "    .dataframe tbody tr th {\n",
       "        vertical-align: top;\n",
       "    }\n",
       "\n",
       "    .dataframe thead th {\n",
       "        text-align: right;\n",
       "    }\n",
       "</style>\n",
       "<table border=\"1\" class=\"dataframe\">\n",
       "  <thead>\n",
       "    <tr style=\"text-align: right;\">\n",
       "      <th></th>\n",
       "      <th>ID</th>\n",
       "      <th>comp_name</th>\n",
       "      <th>website</th>\n",
       "      <th>op_status</th>\n",
       "      <th>domain</th>\n",
       "      <th>founded_on</th>\n",
       "      <th>hq_country_code</th>\n",
       "      <th>hq_state_code</th>\n",
       "      <th>hq_region</th>\n",
       "      <th>hq_city</th>\n",
       "      <th>total_funding_usd</th>\n",
       "      <th>funding_rounds</th>\n",
       "      <th>first_funding_date</th>\n",
       "      <th>last_funding_date</th>\n",
       "      <th>num_investors</th>\n",
       "      <th>funding_duration</th>\n",
       "      <th>first_funding_utc</th>\n",
       "      <th>last_funding_utc</th>\n",
       "      <th>Unnamed: 18</th>\n",
       "    </tr>\n",
       "  </thead>\n",
       "  <tbody>\n",
       "    <tr>\n",
       "      <th>0</th>\n",
       "      <td>0</td>\n",
       "      <td>MDLIVE</td>\n",
       "      <td>http://mdlive.com</td>\n",
       "      <td>operating</td>\n",
       "      <td>Health Care</td>\n",
       "      <td>2009-01-01</td>\n",
       "      <td>USA</td>\n",
       "      <td>FL</td>\n",
       "      <td>Ft. Lauderdale</td>\n",
       "      <td>Fort Lauderdale</td>\n",
       "      <td>73600000</td>\n",
       "      <td>2</td>\n",
       "      <td>2014-01-22</td>\n",
       "      <td>2015-06-24</td>\n",
       "      <td>5</td>\n",
       "      <td>518</td>\n",
       "      <td>16092</td>\n",
       "      <td>16610</td>\n",
       "      <td>NaN</td>\n",
       "    </tr>\n",
       "    <tr>\n",
       "      <th>1</th>\n",
       "      <td>1</td>\n",
       "      <td>APX Labs</td>\n",
       "      <td>http://apx-labs.com</td>\n",
       "      <td>operating</td>\n",
       "      <td>Software</td>\n",
       "      <td>2010-01-01</td>\n",
       "      <td>USA</td>\n",
       "      <td>VA</td>\n",
       "      <td>Washington, D.C.</td>\n",
       "      <td>Herndon</td>\n",
       "      <td>28612936</td>\n",
       "      <td>3</td>\n",
       "      <td>2014-04-02</td>\n",
       "      <td>2015-11-18</td>\n",
       "      <td>7</td>\n",
       "      <td>595</td>\n",
       "      <td>16162</td>\n",
       "      <td>16757</td>\n",
       "      <td>NaN</td>\n",
       "    </tr>\n",
       "  </tbody>\n",
       "</table>\n",
       "</div>"
      ],
      "text/plain": [
       "   ID comp_name              website  op_status       domain  founded_on  \\\n",
       "0   0    MDLIVE    http://mdlive.com  operating  Health Care  2009-01-01   \n",
       "1   1  APX Labs  http://apx-labs.com  operating     Software  2010-01-01   \n",
       "\n",
       "  hq_country_code hq_state_code         hq_region          hq_city  \\\n",
       "0             USA            FL    Ft. Lauderdale  Fort Lauderdale   \n",
       "1             USA            VA  Washington, D.C.          Herndon   \n",
       "\n",
       "  total_funding_usd  funding_rounds first_funding_date last_funding_date  \\\n",
       "0          73600000               2         2014-01-22        2015-06-24   \n",
       "1          28612936               3         2014-04-02        2015-11-18   \n",
       "\n",
       "  num_investors  funding_duration  first_funding_utc  last_funding_utc  \\\n",
       "0             5               518              16092             16610   \n",
       "1             7               595              16162             16757   \n",
       "\n",
       "   Unnamed: 18  \n",
       "0          NaN  \n",
       "1          NaN  "
      ]
     },
     "execution_count": 256,
     "metadata": {},
     "output_type": "execute_result"
    }
   ],
   "source": [
    "df_test = pd.read_csv('test.csv')\n",
    "print(df_test.shape)\n",
    "df_test.head(2)"
   ]
  },
  {
   "cell_type": "code",
   "execution_count": 257,
   "metadata": {},
   "outputs": [
    {
     "name": "stdout",
     "output_type": "stream",
     "text": [
      "<class 'pandas.core.frame.DataFrame'>\n",
      "RangeIndex: 4469 entries, 0 to 4468\n",
      "Data columns (total 19 columns):\n",
      "ID                    4469 non-null int64\n",
      "comp_name             4468 non-null object\n",
      "website               4185 non-null object\n",
      "op_status             4469 non-null object\n",
      "domain                4256 non-null object\n",
      "founded_on            3279 non-null object\n",
      "hq_country_code       4001 non-null object\n",
      "hq_state_code         3893 non-null object\n",
      "hq_region             3914 non-null object\n",
      "hq_city               3914 non-null object\n",
      "total_funding_usd     3619 non-null object\n",
      "funding_rounds        4469 non-null int64\n",
      "first_funding_date    4469 non-null object\n",
      "last_funding_date     4469 non-null object\n",
      "num_investors         4469 non-null object\n",
      "funding_duration      4469 non-null int64\n",
      "first_funding_utc     4469 non-null int64\n",
      "last_funding_utc      4469 non-null int64\n",
      "Unnamed: 18           1 non-null float64\n",
      "dtypes: float64(1), int64(5), object(13)\n",
      "memory usage: 663.4+ KB\n"
     ]
    }
   ],
   "source": [
    "#df.info()\n",
    "df_test.info()"
   ]
  },
  {
   "cell_type": "code",
   "execution_count": 258,
   "metadata": {},
   "outputs": [],
   "source": [
    "del df['comp_name'],df['website']\n",
    "del df_test['comp_name'],df_test['website']"
   ]
  },
  {
   "cell_type": "code",
   "execution_count": 259,
   "metadata": {},
   "outputs": [
    {
     "data": {
      "text/plain": [
       "(40210, 0)"
      ]
     },
     "execution_count": 259,
     "metadata": {},
     "output_type": "execute_result"
    }
   ],
   "source": [
    "#for checking whether these unnamed columns majorly consists of NaN or not\n",
    "cnt=int(0)\n",
    "s=int(0)\n",
    "for i in df['Unnamed: 19']:\n",
    "    if(isinstance(i, str)):\n",
    "        s= s+1\n",
    "    elif(math.isnan(i)):\n",
    "        cnt = cnt+1\n",
    "cnt, s"
   ]
  },
  {
   "cell_type": "code",
   "execution_count": 260,
   "metadata": {},
   "outputs": [],
   "source": [
    "df.drop(df.columns[[17,18,19,20,21,22,23,24]], axis=1, inplace=True)\n",
    "del df_test['Unnamed: 18']\n",
    "#del df['Unnamed: 19'], df['Unnamed: 20'], df['Unnamed: 21'], df['Unnamed: 22'], df['Unnamed: 23'], df['Unnamed: 24'], df['Unnamed: 25'], df['Unnamed: 26']"
   ]
  },
  {
   "cell_type": "code",
   "execution_count": 261,
   "metadata": {},
   "outputs": [
    {
     "name": "stdout",
     "output_type": "stream",
     "text": [
      "(40213, 17) (4469, 16)\n"
     ]
    },
    {
     "data": {
      "text/html": [
       "<div>\n",
       "<style scoped>\n",
       "    .dataframe tbody tr th:only-of-type {\n",
       "        vertical-align: middle;\n",
       "    }\n",
       "\n",
       "    .dataframe tbody tr th {\n",
       "        vertical-align: top;\n",
       "    }\n",
       "\n",
       "    .dataframe thead th {\n",
       "        text-align: right;\n",
       "    }\n",
       "</style>\n",
       "<table border=\"1\" class=\"dataframe\">\n",
       "  <thead>\n",
       "    <tr style=\"text-align: right;\">\n",
       "      <th></th>\n",
       "      <th>ID</th>\n",
       "      <th>op_status</th>\n",
       "      <th>domain</th>\n",
       "      <th>founded_on</th>\n",
       "      <th>hq_country_code</th>\n",
       "      <th>hq_state_code</th>\n",
       "      <th>hq_region</th>\n",
       "      <th>hq_city</th>\n",
       "      <th>total_funding_usd</th>\n",
       "      <th>funding_rounds</th>\n",
       "      <th>first_funding_date</th>\n",
       "      <th>last_funding_date</th>\n",
       "      <th>num_investors</th>\n",
       "      <th>funding_duration</th>\n",
       "      <th>first_funding_utc</th>\n",
       "      <th>last_funding_utc</th>\n",
       "      <th>successful_investment</th>\n",
       "    </tr>\n",
       "  </thead>\n",
       "  <tbody>\n",
       "    <tr>\n",
       "      <th>0</th>\n",
       "      <td>0</td>\n",
       "      <td>closed</td>\n",
       "      <td>Nanotechnology</td>\n",
       "      <td>NaN</td>\n",
       "      <td>GBR</td>\n",
       "      <td>M4</td>\n",
       "      <td>London</td>\n",
       "      <td>Southampton</td>\n",
       "      <td>6820000</td>\n",
       "      <td>1</td>\n",
       "      <td>2005-05-04</td>\n",
       "      <td>2005-05-04</td>\n",
       "      <td>4</td>\n",
       "      <td>0</td>\n",
       "      <td>12907</td>\n",
       "      <td>12907</td>\n",
       "      <td>0</td>\n",
       "    </tr>\n",
       "    <tr>\n",
       "      <th>1</th>\n",
       "      <td>1</td>\n",
       "      <td>acquired</td>\n",
       "      <td>Email|Security|Software</td>\n",
       "      <td>1995-01-01</td>\n",
       "      <td>USA</td>\n",
       "      <td>NY</td>\n",
       "      <td>Long Island</td>\n",
       "      <td>East Northport</td>\n",
       "      <td>NaN</td>\n",
       "      <td>1</td>\n",
       "      <td>2001-03-30</td>\n",
       "      <td>2001-03-30</td>\n",
       "      <td>1</td>\n",
       "      <td>0</td>\n",
       "      <td>11411</td>\n",
       "      <td>11411</td>\n",
       "      <td>1</td>\n",
       "    </tr>\n",
       "  </tbody>\n",
       "</table>\n",
       "</div>"
      ],
      "text/plain": [
       "   ID op_status                   domain  founded_on hq_country_code  \\\n",
       "0   0    closed           Nanotechnology         NaN             GBR   \n",
       "1   1  acquired  Email|Security|Software  1995-01-01             USA   \n",
       "\n",
       "  hq_state_code    hq_region         hq_city total_funding_usd funding_rounds  \\\n",
       "0            M4       London     Southampton           6820000              1   \n",
       "1            NY  Long Island  East Northport               NaN              1   \n",
       "\n",
       "  first_funding_date last_funding_date num_investors  funding_duration  \\\n",
       "0         2005-05-04        2005-05-04             4                 0   \n",
       "1         2001-03-30        2001-03-30             1                 0   \n",
       "\n",
       "  first_funding_utc last_funding_utc  successful_investment  \n",
       "0             12907            12907                      0  \n",
       "1             11411            11411                      1  "
      ]
     },
     "execution_count": 261,
     "metadata": {},
     "output_type": "execute_result"
    }
   ],
   "source": [
    "print(df.shape, df_test.shape)\n",
    "df.head(2)"
   ]
  },
  {
   "cell_type": "code",
   "execution_count": 262,
   "metadata": {},
   "outputs": [
    {
     "data": {
      "text/plain": [
       "(   ID  op_status       domain  founded_on hq_country_code hq_state_code  \\\n",
       " 0   0  operating  Health Care  2009-01-01             USA            FL   \n",
       " 1   1  operating     Software  2010-01-01             USA            VA   \n",
       " \n",
       "           hq_region          hq_city total_funding_usd  funding_rounds  \\\n",
       " 0    Ft. Lauderdale  Fort Lauderdale          73600000               2   \n",
       " 1  Washington, D.C.          Herndon          28612936               3   \n",
       " \n",
       "   first_funding_date last_funding_date num_investors  funding_duration  \\\n",
       " 0         2014-01-22        2015-06-24             5               518   \n",
       " 1         2014-04-02        2015-11-18             7               595   \n",
       " \n",
       "    first_funding_utc  last_funding_utc  \n",
       " 0              16092             16610  \n",
       " 1              16162             16757  ,\n",
       "           ID  op_status                                             domain  \\\n",
       " 0          0     closed                                     Nanotechnology   \n",
       " 1          1   acquired                            Email|Security|Software   \n",
       " 2          2  operating           Beauty|Cosmetics|E-Commerce|Social Media   \n",
       " 3          3     closed                                        Curated Web   \n",
       " 4          4  operating  Big Data|Cloud Computing|Databases|Enterprise ...   \n",
       " 5          5        ipo  Consumer Goods|Crowdsourcing|Delivery|E-Commer...   \n",
       " 6          6  operating  Bridging Online and Offline|Doctors|Telecommun...   \n",
       " 7          7     closed  iPhone|Location Based Services|Messaging|Mobil...   \n",
       " 8          8  operating                                             Mobile   \n",
       " 9          9  operating                                         Technology   \n",
       " 10        10  operating                      E-Commerce|Logistics|Shipping   \n",
       " 11        11  operating                         Cable|Internet|Web Hosting   \n",
       " 12        12   acquired             Marketing Automation|Real Time|Trading   \n",
       " 13        13  operating            3D Technology|Health Care|Manufacturing   \n",
       " 14        14   acquired                                              Games   \n",
       " 15        15  operating                 Application Platforms|Mobile|Music   \n",
       " 16        16     closed  Advertising|Gamification|Mobile|Photography|Sa...   \n",
       " 17        17  operating              Content|Curated Web|Ediscovery|Search   \n",
       " 18        18     closed                       Electronics|Software|Testing   \n",
       " 19        19  operating                       Curated Web|Databases|Mobile   \n",
       " 20        20  operating                             Mobile|Synchronization   \n",
       " 21        21   acquired                                    Internet|Mobile   \n",
       " 22        22  operating                                              Games   \n",
       " 23        23  operating              Broadcasting|Entertainment|Television   \n",
       " 24        24  operating  Curated Web|Home & Garden|Hotels|Property Mana...   \n",
       " 25        25  operating  Education|Facebook Applications|File Sharing|H...   \n",
       " 26        26  operating              Curated Web|Photography|Photo Sharing   \n",
       " 27        27  operating  Developer APIs|Enterprise Software|Finance Tec...   \n",
       " 28        28   acquired                                        Web Hosting   \n",
       " 29        29        ipo                                      Biotechnology   \n",
       " ...      ...        ...                                                ...   \n",
       " 40183  40183  operating                                           Software   \n",
       " 40184  40184  operating                                           Security   \n",
       " 40185  40185  operating                                              Games   \n",
       " 40186  40186        ipo                                        Health Care   \n",
       " 40187  40187   acquired                                        Curated Web   \n",
       " 40188  40188  operating   Hardware|Innovation Management|Services|Startups   \n",
       " 40189  40189  operating                                           Software   \n",
       " 40190  40190  operating  Advertising|Mobile|Music|SaaS|Small and Medium...   \n",
       " 40191  40191  operating    Intellectual Property|Semiconductors|Technology   \n",
       " 40192  40192   acquired                                   Clean Technology   \n",
       " 40193  40193  operating  E-Commerce|Navigation|Personalization|Search|S...   \n",
       " 40194  40194  operating  Online Reservations|Public Transportation|Trav...   \n",
       " 40195  40195  operating                                     Transportation   \n",
       " 40196  40196  operating                          Sensors|Software|Wireless   \n",
       " 40197  40197  operating                                             Mobile   \n",
       " 40198  40198  operating                                         E-Commerce   \n",
       " 40199  40199  operating                                         E-Commerce   \n",
       " 40200  40200  operating   Collaboration|Developer Tools|SaaS|Visualization   \n",
       " 40201  40201     closed                                      Biotechnology   \n",
       " 40202  40202  operating                                        Hospitality   \n",
       " 40203  40203  operating                                              Games   \n",
       " 40204  40204  operating           Developer Tools|Education|K-12 Education   \n",
       " 40205  40205  operating                                        Curated Web   \n",
       " 40206  40206   acquired                                           Software   \n",
       " 40207  40207   acquired                                Hardware + Software   \n",
       " 40208  40208  operating                Fashion|Personal Health|Shoes|Women   \n",
       " 40209  40209  operating                                           Software   \n",
       " 40210  40210     closed          Hardware + Software|Networking|Technology   \n",
       " 40211  40211  operating           Android|iOS|Mobile|Peer-to-Peer|Software   \n",
       " 40212  40212  operating  E-Commerce|Group Buying|Network Security|Socia...   \n",
       " \n",
       "        founded_on hq_country_code hq_state_code                  hq_region  \\\n",
       " 0             NaN             GBR            M4                     London   \n",
       " 1      1995-01-01             USA            NY                Long Island   \n",
       " 2      2009-06-07             USA            PA                 Pittsburgh   \n",
       " 3             NaN             USA            CA                SF Bay Area   \n",
       " 4      2014-06-01             USA            CA                SF Bay Area   \n",
       " 5      1994-07-05             USA            WA                    Seattle   \n",
       " 6             NaN             GBR            L3                  Rotherham   \n",
       " 7      2009-07-01             USA            CA                SF Bay Area   \n",
       " 8             NaN             USA            IN                        NaN   \n",
       " 9             NaN             USA            CA                SF Bay Area   \n",
       " 10            NaN             JPN            40                      Tokyo   \n",
       " 11     2002-01-01             USA            WA                    Seattle   \n",
       " 12     1999-01-01             USA            CA                SF Bay Area   \n",
       " 13     2014-01-01             ISR             5                   Tel Aviv   \n",
       " 14     2000-01-01             USA            WA                    Seattle   \n",
       " 15            NaN             NaN           NaN                        NaN   \n",
       " 16     2012-04-01             USA            FL                      Tampa   \n",
       " 17     2010-06-15             RUS            48                     Moscow   \n",
       " 18            NaN             NaN           NaN                        NaN   \n",
       " 19     2006-11-01             USA            CA                SF Bay Area   \n",
       " 20     2009-03-31             IND            19                  Bangalore   \n",
       " 21     2003-10-01             USA            WA                    Seattle   \n",
       " 22            NaN             CHN            22                    Beijing   \n",
       " 23            NaN             FRA            A8                      Paris   \n",
       " 24     2010-03-17             NOR            13                       Oslo   \n",
       " 25     2010-03-01             CZE           NaN                        NaN   \n",
       " 26     2010-01-06             GBR            I2                 Manchester   \n",
       " 27     2007-01-01             IRL             4                       Cork   \n",
       " 28     2000-01-01             USA            CA                SF Bay Area   \n",
       " 29     2010-01-01             USA            MA                     Boston   \n",
       " ...           ...             ...           ...                        ...   \n",
       " 40183         NaN             USA            WA                    Seattle   \n",
       " 40184  1999-01-01             USA            NH  Manchester, New Hampshire   \n",
       " 40185         NaN             NaN           NaN                        NaN   \n",
       " 40186         NaN             USA            CT                   Hartford   \n",
       " 40187  2002-01-01             USA            IL                    Chicago   \n",
       " 40188  2013-01-01             USA            NY              New York City   \n",
       " 40189  2002-01-01             USA            IL                    Chicago   \n",
       " 40190  2010-01-01             USA            CA                SF Bay Area   \n",
       " 40191  1996-01-01             NaN           NaN                        NaN   \n",
       " 40192         NaN             DEU             4                    Hamburg   \n",
       " 40193  2004-01-01             FRA            B4                      Paris   \n",
       " 40194  2013-01-01             VNM           NaN                Ho Chi Minh   \n",
       " 40195         NaN             NaN           NaN                        NaN   \n",
       " 40196  2007-01-01             PRT            14                PRT - Other   \n",
       " 40197         NaN             NaN           NaN                        NaN   \n",
       " 40198         NaN             ESP            56                  Barcelona   \n",
       " 40199  2008-01-01             USA            CA                Los Angeles   \n",
       " 40200  2013-11-14             USA            DE       Wilmington, Delaware   \n",
       " 40201         NaN             USA            MA                     Boston   \n",
       " 40202         NaN             GBR            I2                 Manchester   \n",
       " 40203         NaN             SGP           NaN                  Singapore   \n",
       " 40204  2013-05-13             USA            NC                    Raleigh   \n",
       " 40205  2009-01-01             FRA            A8                      Paris   \n",
       " 40206  2001-01-01             MAF           NaN                MAF - Other   \n",
       " 40207  1999-01-01             USA            CA                SF Bay Area   \n",
       " 40208  2014-02-07             EST            18                EST - Other   \n",
       " 40209         NaN             KEN             1                KEN - Other   \n",
       " 40210  2003-01-01             USA            TX                     Austin   \n",
       " 40211  2012-01-01             CHE            25                     Zurich   \n",
       " 40212  2011-01-15             USA            CA                SF Bay Area   \n",
       " \n",
       "                  hq_city total_funding_usd funding_rounds first_funding_date  \\\n",
       " 0            Southampton           6820000              1         2005-05-04   \n",
       " 1         East Northport               NaN              1         2001-03-30   \n",
       " 2             Pittsburgh            165778              5         2012-10-25   \n",
       " 3              Sunnyvale           5000000              1         2005-01-01   \n",
       " 4               San Jose          15250000              2         2014-07-01   \n",
       " 5                Seattle           8000000              1         1995-07-01   \n",
       " 6              Rotherham            132222              2         2014-04-23   \n",
       " 7               San Jose             50000              1         2010-04-07   \n",
       " 8                    NaN          13500000              1         2005-12-04   \n",
       " 9               San Jose            400000              1         2015-09-22   \n",
       " 10                 Tokyo            500000              1         2015-03-04   \n",
       " 11              Kirkland        1180000000              2         2012-11-14   \n",
       " 12            San Carlos          10000000              1         2001-11-19   \n",
       " 13              Tel Aviv             30000              1         2014-08-28   \n",
       " 14               Seattle          29866459              2         2009-05-25   \n",
       " 15                   NaN             48748              2         2013-07-01   \n",
       " 16                 Tampa           1050000              3         2012-09-01   \n",
       " 17                Moscow           5025000              3         2011-09-15   \n",
       " 18                   NaN           1938000              5         2000-09-22   \n",
       " 19             Sunnyvale           2060000              2         2006-06-01   \n",
       " 20             Bangalore           1200000              2         2009-03-31   \n",
       " 21              Kirkland        5820000000              6         2001-12-11   \n",
       " 22               Beijing           2500000              1         2013-07-01   \n",
       " 23                 Paris          11200000              1         2015-06-18   \n",
       " 24                 Mysen           1600000              3         2010-03-01   \n",
       " 25                   NaN               NaN              1         2011-05-31   \n",
       " 26            Manchester             10000              1         2009-04-22   \n",
       " 27                  Cork            661500              1         2012-02-22   \n",
       " 28              Campbell          46000000              3         2001-09-24   \n",
       " 29             Cambridge         113000000              4         2012-11-27   \n",
       " ...                  ...               ...            ...                ...   \n",
       " 40183           Bellevue            500000              1         2014-11-12   \n",
       " 40184            Concord           1.4e+07              4         2006-08-21   \n",
       " 40185                NaN            494833              1         2014-07-08   \n",
       " 40186           Branford        1.6925e+07              2         2010-06-30   \n",
       " 40187            Chicago           3.1e+06              1         2002-12-27   \n",
       " 40188           New York             2e+06              2         2013-01-01   \n",
       " 40189            Chicago       3.11317e+06              2         2011-10-03   \n",
       " 40190            Oakland           2.4e+06              3         2011-05-01   \n",
       " 40191                NaN             8e+06              1         2002-11-19   \n",
       " 40192            Hamburg               NaN              2         2008-09-08   \n",
       " 40193              Lille       1.32265e+07              2         2010-04-26   \n",
       " 40194   Ho Chi Minh City               NaN              1         2015-06-26   \n",
       " 40195                NaN       5.93414e+06              4         2012-01-01   \n",
       " 40196  Arruda Dos Vinhos       1.03486e+06              2         2011-06-03   \n",
       " 40197                NaN            139822              3         2013-05-01   \n",
       " 40198          Barcelona            770274              1         2014-09-22   \n",
       " 40199       Laguna Hills           4.5e+06              3         2008-01-01   \n",
       " 40200         Wilmington            270000              4         2014-09-05   \n",
       " 40201          Cambridge         1.145e+08              4         2001-10-24   \n",
       " 40202         Manchester       1.12207e+07              2         2012-04-03   \n",
       " 40203          Singapore             1e+06              1         2013-09-12   \n",
       " 40204             Durham            425000              2         2013-08-28   \n",
       " 40205              Paris             7e+06              2         2012-01-01   \n",
       " 40206            Marigot       2.92432e+07              2         2005-01-17   \n",
       " 40207          Sunnyvale           3.4e+07              3         2005-08-30   \n",
       " 40208              Tartu             54948              4         2013-10-16   \n",
       " 40209           Kalimoni             1e+06              1         2010-09-15   \n",
       " 40210             Austin          6.46e+07              5         2005-01-11   \n",
       " 40211             Zürich           4.5e+06              2         2012-02-08   \n",
       " 40212      San Francisco            765000              3         2011-01-15   \n",
       " \n",
       "       last_funding_date num_investors  funding_duration first_funding_utc  \\\n",
       " 0            2005-05-04             4                 0             12907   \n",
       " 1            2001-03-30             1                 0             11411   \n",
       " 2            2014-05-27             4               579             15638   \n",
       " 3            2005-01-01             1                 0             12784   \n",
       " 4            2015-09-15             4               441             16252   \n",
       " 5            1995-07-01             1                 0              9312   \n",
       " 6            2014-08-01             2               100             16183   \n",
       " 7            2010-04-07             1                 0             14706   \n",
       " 8            2005-12-04             3                 0             13121   \n",
       " 9            2015-09-22             1                 0             16700   \n",
       " 10           2015-03-04             2                 0             16498   \n",
       " 11           2015-05-21             5               918             15658   \n",
       " 12           2001-11-19             4                 0             11645   \n",
       " 13           2014-08-28             1                 0             16310   \n",
       " 14           2009-10-06             3               134             14389   \n",
       " 15           2014-01-01             2               184             15887   \n",
       " 16           2013-09-09             6               373             15584   \n",
       " 17           2014-03-09             2               906             15232   \n",
       " 18           2003-11-17             5              1151             11222   \n",
       " 19           2007-02-01             1               245             13300   \n",
       " 20           2012-04-26             2              1122             14334   \n",
       " 21           2013-02-27            21              4096             11667   \n",
       " 22           2013-07-01             1                 0             15887   \n",
       " 23           2015-06-18             1                 0             16604   \n",
       " 24           2011-11-01             3               610             14669   \n",
       " 25           2011-05-31             1                 0             15125   \n",
       " 26           2009-04-22             1                 0             14356   \n",
       " 27           2012-02-22             2                 0             15392   \n",
       " 28           2006-04-25            11              1674             11589   \n",
       " 29           2015-01-06             8               770             15671   \n",
       " ...                 ...           ...               ...               ...   \n",
       " 40183        2014-11-12             5                 0             16386   \n",
       " 40184        2012-05-14             5              2093             13381   \n",
       " 40185        2014-07-08             1                 0             16259   \n",
       " 40186        2011-06-09             1               344             14790   \n",
       " 40187        2002-12-27             2                 0             12048   \n",
       " 40188        2015-03-19             2               807             15706   \n",
       " 40189        2014-06-05             4               976             15250   \n",
       " 40190        2014-08-27            15              1214             15095   \n",
       " 40191        2002-11-19             1                 0             12010   \n",
       " 40192        2015-03-17             2              2381             14130   \n",
       " 40193        2013-02-21             6              1032             14725   \n",
       " 40194        2015-06-26             2                 0             16612   \n",
       " 40195        2014-03-01             2               790             15340   \n",
       " 40196        2013-10-01             2               851             15128   \n",
       " 40197        2014-06-01             2               396             15826   \n",
       " 40198        2014-09-22             1                 0             16335   \n",
       " 40199        2014-10-02             7              2466             13879   \n",
       " 40200        2015-03-31             2               207             16318   \n",
       " 40201        2010-12-01            23              3325             11619   \n",
       " 40202        2014-05-30             2               787             15433   \n",
       " 40203        2013-09-12             1                 0             15960   \n",
       " 40204        2013-08-30             1                 2             15945   \n",
       " 40205        2014-01-12             3               742             15340   \n",
       " 40206        2007-09-25            11               981             12800   \n",
       " 40207        2009-10-21            15              1513             13025   \n",
       " 40208        2015-02-13             1               485             15994   \n",
       " 40209        2010-09-15             1                 0             14867   \n",
       " 40210        2012-05-17             8              2683             12794   \n",
       " 40211        2014-02-12             5               735             15378   \n",
       " 40212        2011-12-31             4               350             14989   \n",
       " \n",
       "       last_funding_utc  successful_investment  \n",
       " 0                12907                      0  \n",
       " 1                11411                      1  \n",
       " 2                16217                      0  \n",
       " 3                12784                      0  \n",
       " 4                16693                      0  \n",
       " 5                 9312                      1  \n",
       " 6                16283                      0  \n",
       " 7                14706                      0  \n",
       " 8                13121                      0  \n",
       " 9                16700                      0  \n",
       " 10               16498                      0  \n",
       " 11               16576                      0  \n",
       " 12               11645                      1  \n",
       " 13               16310                      0  \n",
       " 14               14523                      1  \n",
       " 15               16071                      0  \n",
       " 16               15957                      0  \n",
       " 17               16138                      0  \n",
       " 18               12373                      0  \n",
       " 19               13545                      0  \n",
       " 20               15456                      0  \n",
       " 21               15763                      1  \n",
       " 22               15887                      0  \n",
       " 23               16604                      0  \n",
       " 24               15279                      0  \n",
       " 25               15125                      0  \n",
       " 26               14356                      0  \n",
       " 27               15392                      0  \n",
       " 28               13263                      1  \n",
       " 29               16441                      1  \n",
       " ...                ...                    ...  \n",
       " 40183            16386                      0  \n",
       " 40184            15474                      0  \n",
       " 40185            16259                      0  \n",
       " 40186            15134                      1  \n",
       " 40187            12048                      1  \n",
       " 40188            16513                      0  \n",
       " 40189            16226                      0  \n",
       " 40190            16309                      0  \n",
       " 40191            12010                      0  \n",
       " 40192            16511                      1  \n",
       " 40193            15757                      0  \n",
       " 40194            16612                      0  \n",
       " 40195            16130                      0  \n",
       " 40196            15979                      0  \n",
       " 40197            16222                      0  \n",
       " 40198            16335                      0  \n",
       " 40199            16345                      0  \n",
       " 40200            16525                      0  \n",
       " 40201            14944                      0  \n",
       " 40202            16220                      0  \n",
       " 40203            15960                      0  \n",
       " 40204            15947                      0  \n",
       " 40205            16082                      0  \n",
       " 40206            13781                      1  \n",
       " 40207            14538                      1  \n",
       " 40208            16479                      0  \n",
       " 40209            14867                      0  \n",
       " 40210            15477                      0  \n",
       " 40211            16113                      0  \n",
       " 40212            15339                      0  \n",
       " \n",
       " [40213 rows x 17 columns])"
      ]
     },
     "execution_count": 262,
     "metadata": {},
     "output_type": "execute_result"
    }
   ],
   "source": [
    "df_test.head(2), df"
   ]
  },
  {
   "cell_type": "code",
   "execution_count": 263,
   "metadata": {},
   "outputs": [],
   "source": [
    "#df.interpolate()"
   ]
  },
  {
   "cell_type": "code",
   "execution_count": 264,
   "metadata": {},
   "outputs": [],
   "source": [
    "#df.info()"
   ]
  },
  {
   "cell_type": "code",
   "execution_count": 265,
   "metadata": {},
   "outputs": [
    {
     "data": {
      "text/plain": [
       "((22991, 17), (2523, 16))"
      ]
     },
     "execution_count": 265,
     "metadata": {},
     "output_type": "execute_result"
    }
   ],
   "source": [
    "df1 = df.dropna()\n",
    "df1_test = df_test.dropna()\n",
    "df1.shape, df1_test.shape"
   ]
  },
  {
   "cell_type": "code",
   "execution_count": 266,
   "metadata": {},
   "outputs": [
    {
     "data": {
      "text/html": [
       "<div>\n",
       "<style scoped>\n",
       "    .dataframe tbody tr th:only-of-type {\n",
       "        vertical-align: middle;\n",
       "    }\n",
       "\n",
       "    .dataframe tbody tr th {\n",
       "        vertical-align: top;\n",
       "    }\n",
       "\n",
       "    .dataframe thead th {\n",
       "        text-align: right;\n",
       "    }\n",
       "</style>\n",
       "<table border=\"1\" class=\"dataframe\">\n",
       "  <thead>\n",
       "    <tr style=\"text-align: right;\">\n",
       "      <th></th>\n",
       "      <th>ID</th>\n",
       "      <th>op_status</th>\n",
       "      <th>domain</th>\n",
       "      <th>founded_on</th>\n",
       "      <th>hq_country_code</th>\n",
       "      <th>hq_state_code</th>\n",
       "      <th>hq_region</th>\n",
       "      <th>hq_city</th>\n",
       "      <th>total_funding_usd</th>\n",
       "      <th>funding_rounds</th>\n",
       "      <th>first_funding_date</th>\n",
       "      <th>last_funding_date</th>\n",
       "      <th>num_investors</th>\n",
       "      <th>funding_duration</th>\n",
       "      <th>first_funding_utc</th>\n",
       "      <th>last_funding_utc</th>\n",
       "      <th>successful_investment</th>\n",
       "    </tr>\n",
       "  </thead>\n",
       "  <tbody>\n",
       "    <tr>\n",
       "      <th>2</th>\n",
       "      <td>2</td>\n",
       "      <td>operating</td>\n",
       "      <td>Beauty|Cosmetics|E-Commerce|Social Media</td>\n",
       "      <td>2009-06-07</td>\n",
       "      <td>USA</td>\n",
       "      <td>PA</td>\n",
       "      <td>Pittsburgh</td>\n",
       "      <td>Pittsburgh</td>\n",
       "      <td>165778</td>\n",
       "      <td>5</td>\n",
       "      <td>2012-10-25</td>\n",
       "      <td>2014-05-27</td>\n",
       "      <td>4</td>\n",
       "      <td>579</td>\n",
       "      <td>15638</td>\n",
       "      <td>16217</td>\n",
       "      <td>0</td>\n",
       "    </tr>\n",
       "    <tr>\n",
       "      <th>4</th>\n",
       "      <td>4</td>\n",
       "      <td>operating</td>\n",
       "      <td>Big Data|Cloud Computing|Databases|Enterprise ...</td>\n",
       "      <td>2014-06-01</td>\n",
       "      <td>USA</td>\n",
       "      <td>CA</td>\n",
       "      <td>SF Bay Area</td>\n",
       "      <td>San Jose</td>\n",
       "      <td>15250000</td>\n",
       "      <td>2</td>\n",
       "      <td>2014-07-01</td>\n",
       "      <td>2015-09-15</td>\n",
       "      <td>4</td>\n",
       "      <td>441</td>\n",
       "      <td>16252</td>\n",
       "      <td>16693</td>\n",
       "      <td>0</td>\n",
       "    </tr>\n",
       "  </tbody>\n",
       "</table>\n",
       "</div>"
      ],
      "text/plain": [
       "   ID  op_status                                             domain  \\\n",
       "2   2  operating           Beauty|Cosmetics|E-Commerce|Social Media   \n",
       "4   4  operating  Big Data|Cloud Computing|Databases|Enterprise ...   \n",
       "\n",
       "   founded_on hq_country_code hq_state_code    hq_region     hq_city  \\\n",
       "2  2009-06-07             USA            PA   Pittsburgh  Pittsburgh   \n",
       "4  2014-06-01             USA            CA  SF Bay Area    San Jose   \n",
       "\n",
       "  total_funding_usd funding_rounds first_funding_date last_funding_date  \\\n",
       "2            165778              5         2012-10-25        2014-05-27   \n",
       "4          15250000              2         2014-07-01        2015-09-15   \n",
       "\n",
       "  num_investors  funding_duration first_funding_utc last_funding_utc  \\\n",
       "2             4               579             15638            16217   \n",
       "4             4               441             16252            16693   \n",
       "\n",
       "   successful_investment  \n",
       "2                      0  \n",
       "4                      0  "
      ]
     },
     "execution_count": 266,
     "metadata": {},
     "output_type": "execute_result"
    }
   ],
   "source": [
    "df1.head(2)"
   ]
  },
  {
   "cell_type": "code",
   "execution_count": 267,
   "metadata": {},
   "outputs": [
    {
     "data": {
      "text/plain": [
       "((260,), (801,), (2388,), (97,))"
      ]
     },
     "execution_count": 267,
     "metadata": {},
     "output_type": "execute_result"
    }
   ],
   "source": [
    "df1['hq_state_code'].unique().shape, df1['hq_region'].unique().shape, df1['hq_city'].unique().shape, df1['hq_country_code'].unique().shape"
   ]
  },
  {
   "cell_type": "code",
   "execution_count": 268,
   "metadata": {},
   "outputs": [
    {
     "data": {
      "text/plain": [
       "((154,), (350,), (680,), (63,))"
      ]
     },
     "execution_count": 268,
     "metadata": {},
     "output_type": "execute_result"
    }
   ],
   "source": [
    "df1_test['hq_state_code'].unique().shape, df1_test['hq_region'].unique().shape, df1_test['hq_city'].unique().shape, df1_test['hq_country_code'].unique().shape"
   ]
  },
  {
   "cell_type": "code",
   "execution_count": 269,
   "metadata": {},
   "outputs": [
    {
     "name": "stdout",
     "output_type": "stream",
     "text": [
      "(6,) (7,)\n"
     ]
    },
    {
     "data": {
      "text/plain": [
       "((5,), (5,))"
      ]
     },
     "execution_count": 269,
     "metadata": {},
     "output_type": "execute_result"
    }
   ],
   "source": [
    "#here note that the 1 op_status is skipped due to NaN removal\n",
    "print(df1['op_status'].unique().shape, df['op_status'].unique().shape)\n",
    "df1_test['op_status'].unique().shape, df_test['op_status'].unique().shape\n",
    "#df['total_funding_usd'] = int(df['total_funding_usd'])\n",
    "#df2 = df.total_funding_usd.fillna(df.total_funding_usd.mean())"
   ]
  },
  {
   "cell_type": "code",
   "execution_count": 270,
   "metadata": {},
   "outputs": [
    {
     "data": {
      "text/html": [
       "<div>\n",
       "<style scoped>\n",
       "    .dataframe tbody tr th:only-of-type {\n",
       "        vertical-align: middle;\n",
       "    }\n",
       "\n",
       "    .dataframe tbody tr th {\n",
       "        vertical-align: top;\n",
       "    }\n",
       "\n",
       "    .dataframe thead th {\n",
       "        text-align: right;\n",
       "    }\n",
       "</style>\n",
       "<table border=\"1\" class=\"dataframe\">\n",
       "  <thead>\n",
       "    <tr style=\"text-align: right;\">\n",
       "      <th></th>\n",
       "      <th>ID</th>\n",
       "      <th>op_status</th>\n",
       "      <th>domain</th>\n",
       "      <th>founded_on</th>\n",
       "      <th>hq_country_code</th>\n",
       "      <th>hq_state_code</th>\n",
       "      <th>hq_region</th>\n",
       "      <th>hq_city</th>\n",
       "      <th>total_funding_usd</th>\n",
       "      <th>funding_rounds</th>\n",
       "      <th>first_funding_date</th>\n",
       "      <th>last_funding_date</th>\n",
       "      <th>num_investors</th>\n",
       "      <th>funding_duration</th>\n",
       "      <th>first_funding_utc</th>\n",
       "      <th>last_funding_utc</th>\n",
       "      <th>successful_investment</th>\n",
       "    </tr>\n",
       "  </thead>\n",
       "  <tbody>\n",
       "    <tr>\n",
       "      <th>2</th>\n",
       "      <td>2</td>\n",
       "      <td>operating</td>\n",
       "      <td>Beauty|Cosmetics|E-Commerce|Social Media</td>\n",
       "      <td>2009-06-07</td>\n",
       "      <td>USA</td>\n",
       "      <td>PA</td>\n",
       "      <td>Pittsburgh</td>\n",
       "      <td>Pittsburgh</td>\n",
       "      <td>165778</td>\n",
       "      <td>5</td>\n",
       "      <td>2012-10-25</td>\n",
       "      <td>2014-05-27</td>\n",
       "      <td>4</td>\n",
       "      <td>579</td>\n",
       "      <td>15638</td>\n",
       "      <td>16217</td>\n",
       "      <td>0</td>\n",
       "    </tr>\n",
       "    <tr>\n",
       "      <th>4</th>\n",
       "      <td>4</td>\n",
       "      <td>operating</td>\n",
       "      <td>Big Data|Cloud Computing|Databases|Enterprise ...</td>\n",
       "      <td>2014-06-01</td>\n",
       "      <td>USA</td>\n",
       "      <td>CA</td>\n",
       "      <td>SF Bay Area</td>\n",
       "      <td>San Jose</td>\n",
       "      <td>15250000</td>\n",
       "      <td>2</td>\n",
       "      <td>2014-07-01</td>\n",
       "      <td>2015-09-15</td>\n",
       "      <td>4</td>\n",
       "      <td>441</td>\n",
       "      <td>16252</td>\n",
       "      <td>16693</td>\n",
       "      <td>0</td>\n",
       "    </tr>\n",
       "    <tr>\n",
       "      <th>5</th>\n",
       "      <td>5</td>\n",
       "      <td>ipo</td>\n",
       "      <td>Consumer Goods|Crowdsourcing|Delivery|E-Commer...</td>\n",
       "      <td>1994-07-05</td>\n",
       "      <td>USA</td>\n",
       "      <td>WA</td>\n",
       "      <td>Seattle</td>\n",
       "      <td>Seattle</td>\n",
       "      <td>8000000</td>\n",
       "      <td>1</td>\n",
       "      <td>1995-07-01</td>\n",
       "      <td>1995-07-01</td>\n",
       "      <td>1</td>\n",
       "      <td>0</td>\n",
       "      <td>9312</td>\n",
       "      <td>9312</td>\n",
       "      <td>1</td>\n",
       "    </tr>\n",
       "    <tr>\n",
       "      <th>7</th>\n",
       "      <td>7</td>\n",
       "      <td>closed</td>\n",
       "      <td>iPhone|Location Based Services|Messaging|Mobil...</td>\n",
       "      <td>2009-07-01</td>\n",
       "      <td>USA</td>\n",
       "      <td>CA</td>\n",
       "      <td>SF Bay Area</td>\n",
       "      <td>San Jose</td>\n",
       "      <td>50000</td>\n",
       "      <td>1</td>\n",
       "      <td>2010-04-07</td>\n",
       "      <td>2010-04-07</td>\n",
       "      <td>1</td>\n",
       "      <td>0</td>\n",
       "      <td>14706</td>\n",
       "      <td>14706</td>\n",
       "      <td>0</td>\n",
       "    </tr>\n",
       "    <tr>\n",
       "      <th>11</th>\n",
       "      <td>11</td>\n",
       "      <td>operating</td>\n",
       "      <td>Cable|Internet|Web Hosting</td>\n",
       "      <td>2002-01-01</td>\n",
       "      <td>USA</td>\n",
       "      <td>WA</td>\n",
       "      <td>Seattle</td>\n",
       "      <td>Kirkland</td>\n",
       "      <td>1180000000</td>\n",
       "      <td>2</td>\n",
       "      <td>2012-11-14</td>\n",
       "      <td>2015-05-21</td>\n",
       "      <td>5</td>\n",
       "      <td>918</td>\n",
       "      <td>15658</td>\n",
       "      <td>16576</td>\n",
       "      <td>0</td>\n",
       "    </tr>\n",
       "  </tbody>\n",
       "</table>\n",
       "</div>"
      ],
      "text/plain": [
       "    ID  op_status                                             domain  \\\n",
       "2    2  operating           Beauty|Cosmetics|E-Commerce|Social Media   \n",
       "4    4  operating  Big Data|Cloud Computing|Databases|Enterprise ...   \n",
       "5    5        ipo  Consumer Goods|Crowdsourcing|Delivery|E-Commer...   \n",
       "7    7     closed  iPhone|Location Based Services|Messaging|Mobil...   \n",
       "11  11  operating                         Cable|Internet|Web Hosting   \n",
       "\n",
       "    founded_on hq_country_code hq_state_code    hq_region     hq_city  \\\n",
       "2   2009-06-07             USA            PA   Pittsburgh  Pittsburgh   \n",
       "4   2014-06-01             USA            CA  SF Bay Area    San Jose   \n",
       "5   1994-07-05             USA            WA      Seattle     Seattle   \n",
       "7   2009-07-01             USA            CA  SF Bay Area    San Jose   \n",
       "11  2002-01-01             USA            WA      Seattle    Kirkland   \n",
       "\n",
       "   total_funding_usd funding_rounds first_funding_date last_funding_date  \\\n",
       "2             165778              5         2012-10-25        2014-05-27   \n",
       "4           15250000              2         2014-07-01        2015-09-15   \n",
       "5            8000000              1         1995-07-01        1995-07-01   \n",
       "7              50000              1         2010-04-07        2010-04-07   \n",
       "11        1180000000              2         2012-11-14        2015-05-21   \n",
       "\n",
       "   num_investors  funding_duration first_funding_utc last_funding_utc  \\\n",
       "2              4               579             15638            16217   \n",
       "4              4               441             16252            16693   \n",
       "5              1                 0              9312             9312   \n",
       "7              1                 0             14706            14706   \n",
       "11             5               918             15658            16576   \n",
       "\n",
       "    successful_investment  \n",
       "2                       0  \n",
       "4                       0  \n",
       "5                       1  \n",
       "7                       0  \n",
       "11                      0  "
      ]
     },
     "execution_count": 270,
     "metadata": {},
     "output_type": "execute_result"
    }
   ],
   "source": [
    "df1.head()"
   ]
  },
  {
   "cell_type": "code",
   "execution_count": 271,
   "metadata": {},
   "outputs": [
    {
     "name": "stderr",
     "output_type": "stream",
     "text": [
      "/home/sammynerd/anaconda3/lib/python3.6/site-packages/pandas/core/frame.py:3930: SettingWithCopyWarning: \n",
      "A value is trying to be set on a copy of a slice from a DataFrame\n",
      "\n",
      "See the caveats in the documentation: http://pandas.pydata.org/pandas-docs/stable/indexing.html#indexing-view-versus-copy\n",
      "  errors=errors)\n"
     ]
    }
   ],
   "source": [
    "df1.drop(df.columns[[10,11]], axis=1, inplace=True)\n",
    "df1_test.drop(df1_test.columns[[10,11]], axis=1, inplace=True)"
   ]
  },
  {
   "cell_type": "code",
   "execution_count": 272,
   "metadata": {},
   "outputs": [
    {
     "data": {
      "text/plain": [
       "((2476,), (11774,))"
      ]
     },
     "execution_count": 272,
     "metadata": {},
     "output_type": "execute_result"
    }
   ],
   "source": [
    "df1['founded_on'].unique().shape,df1['domain'].unique().shape "
   ]
  },
  {
   "cell_type": "code",
   "execution_count": 273,
   "metadata": {},
   "outputs": [
    {
     "data": {
      "text/plain": [
       "((22991, 15), (2523, 14))"
      ]
     },
     "execution_count": 273,
     "metadata": {},
     "output_type": "execute_result"
    }
   ],
   "source": [
    "df1.shape, df1_test.shape"
   ]
  },
  {
   "cell_type": "code",
   "execution_count": 274,
   "metadata": {},
   "outputs": [
    {
     "name": "stdout",
     "output_type": "stream",
     "text": [
      "<class 'pandas.core.frame.DataFrame'>\n",
      "Int64Index: 2523 entries, 0 to 4468\n",
      "Data columns (total 14 columns):\n",
      "ID                   2523 non-null int64\n",
      "op_status            2523 non-null object\n",
      "domain               2523 non-null object\n",
      "founded_on           2523 non-null object\n",
      "hq_country_code      2523 non-null object\n",
      "hq_state_code        2523 non-null object\n",
      "hq_region            2523 non-null object\n",
      "hq_city              2523 non-null object\n",
      "total_funding_usd    2523 non-null object\n",
      "funding_rounds       2523 non-null int64\n",
      "num_investors        2523 non-null object\n",
      "funding_duration     2523 non-null int64\n",
      "first_funding_utc    2523 non-null int64\n",
      "last_funding_utc     2523 non-null int64\n",
      "dtypes: int64(5), object(9)\n",
      "memory usage: 295.7+ KB\n"
     ]
    }
   ],
   "source": [
    "df1_test.info()"
   ]
  },
  {
   "cell_type": "code",
   "execution_count": 278,
   "metadata": {},
   "outputs": [],
   "source": [
    "df1.drop(df1.index[[4392,9826]], inplace=True)\n",
    "#df1.iloc[9826:]"
   ]
  },
  {
   "cell_type": "code",
   "execution_count": 279,
   "metadata": {},
   "outputs": [],
   "source": [
    "df1_test.drop(df1_test.index[[1353]], inplace=True)"
   ]
  },
  {
   "cell_type": "code",
   "execution_count": 280,
   "metadata": {},
   "outputs": [
    {
     "name": "stderr",
     "output_type": "stream",
     "text": [
      "/home/sammynerd/anaconda3/lib/python3.6/site-packages/pandas/core/generic.py:5086: SettingWithCopyWarning: \n",
      "A value is trying to be set on a copy of a slice from a DataFrame.\n",
      "Try using .loc[row_indexer,col_indexer] = value instead\n",
      "\n",
      "See the caveats in the documentation: http://pandas.pydata.org/pandas-docs/stable/indexing.html#indexing-view-versus-copy\n",
      "  self[name] = value\n"
     ]
    }
   ],
   "source": [
    "df1.total_funding_usd = pd.to_numeric(df1.total_funding_usd)\n",
    "df1.funding_rounds = pd.to_numeric(df1.funding_rounds)\n",
    "df1.num_investors = pd.to_numeric(df1.num_investors)\n",
    "df1.first_funding_utc = pd.to_numeric(df1.first_funding_utc)\n",
    "df1.last_funding_utc = pd.to_numeric(df1.last_funding_utc)"
   ]
  },
  {
   "cell_type": "code",
   "execution_count": 281,
   "metadata": {},
   "outputs": [],
   "source": [
    "df1_test.total_funding_usd = pd.to_numeric(df1_test.total_funding_usd)\n",
    "df1_test.funding_rounds = pd.to_numeric(df1_test.funding_rounds)\n",
    "df1_test.num_investors = pd.to_numeric(df1_test.num_investors)\n",
    "df1_test.first_funding_utc = pd.to_numeric(df1_test.first_funding_utc)\n",
    "df1_test.last_funding_utc = pd.to_numeric(df1_test.last_funding_utc)"
   ]
  },
  {
   "cell_type": "code",
   "execution_count": 282,
   "metadata": {},
   "outputs": [],
   "source": [
    "from sklearn.preprocessing import LabelEncoder\n",
    "le = LabelEncoder()"
   ]
  },
  {
   "cell_type": "code",
   "execution_count": 283,
   "metadata": {},
   "outputs": [
    {
     "data": {
      "text/html": [
       "<div>\n",
       "<style scoped>\n",
       "    .dataframe tbody tr th:only-of-type {\n",
       "        vertical-align: middle;\n",
       "    }\n",
       "\n",
       "    .dataframe tbody tr th {\n",
       "        vertical-align: top;\n",
       "    }\n",
       "\n",
       "    .dataframe thead th {\n",
       "        text-align: right;\n",
       "    }\n",
       "</style>\n",
       "<table border=\"1\" class=\"dataframe\">\n",
       "  <thead>\n",
       "    <tr style=\"text-align: right;\">\n",
       "      <th></th>\n",
       "      <th>ID</th>\n",
       "      <th>op_status</th>\n",
       "      <th>domain</th>\n",
       "      <th>founded_on</th>\n",
       "      <th>hq_country_code</th>\n",
       "      <th>hq_state_code</th>\n",
       "      <th>hq_region</th>\n",
       "      <th>hq_city</th>\n",
       "      <th>total_funding_usd</th>\n",
       "      <th>funding_rounds</th>\n",
       "      <th>num_investors</th>\n",
       "      <th>funding_duration</th>\n",
       "      <th>first_funding_utc</th>\n",
       "      <th>last_funding_utc</th>\n",
       "      <th>successful_investment</th>\n",
       "    </tr>\n",
       "  </thead>\n",
       "  <tbody>\n",
       "    <tr>\n",
       "      <th>2</th>\n",
       "      <td>2</td>\n",
       "      <td>operating</td>\n",
       "      <td>Beauty|Cosmetics|E-Commerce|Social Media</td>\n",
       "      <td>2009-06-07</td>\n",
       "      <td>USA</td>\n",
       "      <td>PA</td>\n",
       "      <td>Pittsburgh</td>\n",
       "      <td>Pittsburgh</td>\n",
       "      <td>1.657780e+05</td>\n",
       "      <td>5</td>\n",
       "      <td>4</td>\n",
       "      <td>579</td>\n",
       "      <td>15638</td>\n",
       "      <td>16217</td>\n",
       "      <td>0</td>\n",
       "    </tr>\n",
       "    <tr>\n",
       "      <th>4</th>\n",
       "      <td>4</td>\n",
       "      <td>operating</td>\n",
       "      <td>Big Data|Cloud Computing|Databases|Enterprise ...</td>\n",
       "      <td>2014-06-01</td>\n",
       "      <td>USA</td>\n",
       "      <td>CA</td>\n",
       "      <td>SF Bay Area</td>\n",
       "      <td>San Jose</td>\n",
       "      <td>1.525000e+07</td>\n",
       "      <td>2</td>\n",
       "      <td>4</td>\n",
       "      <td>441</td>\n",
       "      <td>16252</td>\n",
       "      <td>16693</td>\n",
       "      <td>0</td>\n",
       "    </tr>\n",
       "    <tr>\n",
       "      <th>5</th>\n",
       "      <td>5</td>\n",
       "      <td>ipo</td>\n",
       "      <td>Consumer Goods|Crowdsourcing|Delivery|E-Commer...</td>\n",
       "      <td>1994-07-05</td>\n",
       "      <td>USA</td>\n",
       "      <td>WA</td>\n",
       "      <td>Seattle</td>\n",
       "      <td>Seattle</td>\n",
       "      <td>8.000000e+06</td>\n",
       "      <td>1</td>\n",
       "      <td>1</td>\n",
       "      <td>0</td>\n",
       "      <td>9312</td>\n",
       "      <td>9312</td>\n",
       "      <td>1</td>\n",
       "    </tr>\n",
       "    <tr>\n",
       "      <th>7</th>\n",
       "      <td>7</td>\n",
       "      <td>closed</td>\n",
       "      <td>iPhone|Location Based Services|Messaging|Mobil...</td>\n",
       "      <td>2009-07-01</td>\n",
       "      <td>USA</td>\n",
       "      <td>CA</td>\n",
       "      <td>SF Bay Area</td>\n",
       "      <td>San Jose</td>\n",
       "      <td>5.000000e+04</td>\n",
       "      <td>1</td>\n",
       "      <td>1</td>\n",
       "      <td>0</td>\n",
       "      <td>14706</td>\n",
       "      <td>14706</td>\n",
       "      <td>0</td>\n",
       "    </tr>\n",
       "    <tr>\n",
       "      <th>11</th>\n",
       "      <td>11</td>\n",
       "      <td>operating</td>\n",
       "      <td>Cable|Internet|Web Hosting</td>\n",
       "      <td>2002-01-01</td>\n",
       "      <td>USA</td>\n",
       "      <td>WA</td>\n",
       "      <td>Seattle</td>\n",
       "      <td>Kirkland</td>\n",
       "      <td>1.180000e+09</td>\n",
       "      <td>2</td>\n",
       "      <td>5</td>\n",
       "      <td>918</td>\n",
       "      <td>15658</td>\n",
       "      <td>16576</td>\n",
       "      <td>0</td>\n",
       "    </tr>\n",
       "  </tbody>\n",
       "</table>\n",
       "</div>"
      ],
      "text/plain": [
       "    ID  op_status                                             domain  \\\n",
       "2    2  operating           Beauty|Cosmetics|E-Commerce|Social Media   \n",
       "4    4  operating  Big Data|Cloud Computing|Databases|Enterprise ...   \n",
       "5    5        ipo  Consumer Goods|Crowdsourcing|Delivery|E-Commer...   \n",
       "7    7     closed  iPhone|Location Based Services|Messaging|Mobil...   \n",
       "11  11  operating                         Cable|Internet|Web Hosting   \n",
       "\n",
       "    founded_on hq_country_code hq_state_code    hq_region     hq_city  \\\n",
       "2   2009-06-07             USA            PA   Pittsburgh  Pittsburgh   \n",
       "4   2014-06-01             USA            CA  SF Bay Area    San Jose   \n",
       "5   1994-07-05             USA            WA      Seattle     Seattle   \n",
       "7   2009-07-01             USA            CA  SF Bay Area    San Jose   \n",
       "11  2002-01-01             USA            WA      Seattle    Kirkland   \n",
       "\n",
       "    total_funding_usd  funding_rounds  num_investors  funding_duration  \\\n",
       "2        1.657780e+05               5              4               579   \n",
       "4        1.525000e+07               2              4               441   \n",
       "5        8.000000e+06               1              1                 0   \n",
       "7        5.000000e+04               1              1                 0   \n",
       "11       1.180000e+09               2              5               918   \n",
       "\n",
       "    first_funding_utc  last_funding_utc  successful_investment  \n",
       "2               15638             16217                      0  \n",
       "4               16252             16693                      0  \n",
       "5                9312              9312                      1  \n",
       "7               14706             14706                      0  \n",
       "11              15658             16576                      0  "
      ]
     },
     "execution_count": 283,
     "metadata": {},
     "output_type": "execute_result"
    }
   ],
   "source": [
    "df1.head()"
   ]
  },
  {
   "cell_type": "code",
   "execution_count": 284,
   "metadata": {},
   "outputs": [
    {
     "data": {
      "text/html": [
       "<div>\n",
       "<style scoped>\n",
       "    .dataframe tbody tr th:only-of-type {\n",
       "        vertical-align: middle;\n",
       "    }\n",
       "\n",
       "    .dataframe tbody tr th {\n",
       "        vertical-align: top;\n",
       "    }\n",
       "\n",
       "    .dataframe thead th {\n",
       "        text-align: right;\n",
       "    }\n",
       "</style>\n",
       "<table border=\"1\" class=\"dataframe\">\n",
       "  <thead>\n",
       "    <tr style=\"text-align: right;\">\n",
       "      <th></th>\n",
       "      <th>ID</th>\n",
       "      <th>op_status</th>\n",
       "      <th>domain</th>\n",
       "      <th>founded_on</th>\n",
       "      <th>hq_country_code</th>\n",
       "      <th>hq_state_code</th>\n",
       "      <th>hq_region</th>\n",
       "      <th>hq_city</th>\n",
       "      <th>total_funding_usd</th>\n",
       "      <th>funding_rounds</th>\n",
       "      <th>num_investors</th>\n",
       "      <th>funding_duration</th>\n",
       "      <th>first_funding_utc</th>\n",
       "      <th>last_funding_utc</th>\n",
       "    </tr>\n",
       "  </thead>\n",
       "  <tbody>\n",
       "    <tr>\n",
       "      <th>0</th>\n",
       "      <td>0</td>\n",
       "      <td>operating</td>\n",
       "      <td>Health Care</td>\n",
       "      <td>2009-01-01</td>\n",
       "      <td>USA</td>\n",
       "      <td>FL</td>\n",
       "      <td>Ft. Lauderdale</td>\n",
       "      <td>Fort Lauderdale</td>\n",
       "      <td>73600000.0</td>\n",
       "      <td>2</td>\n",
       "      <td>5</td>\n",
       "      <td>518</td>\n",
       "      <td>16092</td>\n",
       "      <td>16610</td>\n",
       "    </tr>\n",
       "    <tr>\n",
       "      <th>1</th>\n",
       "      <td>1</td>\n",
       "      <td>operating</td>\n",
       "      <td>Software</td>\n",
       "      <td>2010-01-01</td>\n",
       "      <td>USA</td>\n",
       "      <td>VA</td>\n",
       "      <td>Washington, D.C.</td>\n",
       "      <td>Herndon</td>\n",
       "      <td>28612936.0</td>\n",
       "      <td>3</td>\n",
       "      <td>7</td>\n",
       "      <td>595</td>\n",
       "      <td>16162</td>\n",
       "      <td>16757</td>\n",
       "    </tr>\n",
       "    <tr>\n",
       "      <th>5</th>\n",
       "      <td>5</td>\n",
       "      <td>operating</td>\n",
       "      <td>Android|Application Platforms|Apps|App Stores|...</td>\n",
       "      <td>2012-10-12</td>\n",
       "      <td>CAN</td>\n",
       "      <td>BC</td>\n",
       "      <td>Vancouver</td>\n",
       "      <td>Vancouver</td>\n",
       "      <td>10300000.0</td>\n",
       "      <td>2</td>\n",
       "      <td>7</td>\n",
       "      <td>524</td>\n",
       "      <td>15994</td>\n",
       "      <td>16518</td>\n",
       "    </tr>\n",
       "    <tr>\n",
       "      <th>12</th>\n",
       "      <td>12</td>\n",
       "      <td>operating</td>\n",
       "      <td>Analytics|Big Data Analytics</td>\n",
       "      <td>2012-01-01</td>\n",
       "      <td>USA</td>\n",
       "      <td>CA</td>\n",
       "      <td>SF Bay Area</td>\n",
       "      <td>Palo Alto</td>\n",
       "      <td>7000000.0</td>\n",
       "      <td>2</td>\n",
       "      <td>3</td>\n",
       "      <td>343</td>\n",
       "      <td>16287</td>\n",
       "      <td>16630</td>\n",
       "    </tr>\n",
       "    <tr>\n",
       "      <th>13</th>\n",
       "      <td>13</td>\n",
       "      <td>operating</td>\n",
       "      <td>Advertising|Technology</td>\n",
       "      <td>2010-06-01</td>\n",
       "      <td>USA</td>\n",
       "      <td>CA</td>\n",
       "      <td>San Diego</td>\n",
       "      <td>San Diego</td>\n",
       "      <td>3000000.0</td>\n",
       "      <td>1</td>\n",
       "      <td>1</td>\n",
       "      <td>0</td>\n",
       "      <td>16469</td>\n",
       "      <td>16469</td>\n",
       "    </tr>\n",
       "  </tbody>\n",
       "</table>\n",
       "</div>"
      ],
      "text/plain": [
       "    ID  op_status                                             domain  \\\n",
       "0    0  operating                                        Health Care   \n",
       "1    1  operating                                           Software   \n",
       "5    5  operating  Android|Application Platforms|Apps|App Stores|...   \n",
       "12  12  operating                       Analytics|Big Data Analytics   \n",
       "13  13  operating                             Advertising|Technology   \n",
       "\n",
       "    founded_on hq_country_code hq_state_code         hq_region  \\\n",
       "0   2009-01-01             USA            FL    Ft. Lauderdale   \n",
       "1   2010-01-01             USA            VA  Washington, D.C.   \n",
       "5   2012-10-12             CAN            BC         Vancouver   \n",
       "12  2012-01-01             USA            CA       SF Bay Area   \n",
       "13  2010-06-01             USA            CA         San Diego   \n",
       "\n",
       "            hq_city  total_funding_usd  funding_rounds  num_investors  \\\n",
       "0   Fort Lauderdale         73600000.0               2              5   \n",
       "1           Herndon         28612936.0               3              7   \n",
       "5         Vancouver         10300000.0               2              7   \n",
       "12        Palo Alto          7000000.0               2              3   \n",
       "13        San Diego          3000000.0               1              1   \n",
       "\n",
       "    funding_duration  first_funding_utc  last_funding_utc  \n",
       "0                518              16092             16610  \n",
       "1                595              16162             16757  \n",
       "5                524              15994             16518  \n",
       "12               343              16287             16630  \n",
       "13                 0              16469             16469  "
      ]
     },
     "execution_count": 284,
     "metadata": {},
     "output_type": "execute_result"
    }
   ],
   "source": [
    "df1_test.head()"
   ]
  },
  {
   "cell_type": "code",
   "execution_count": 285,
   "metadata": {},
   "outputs": [],
   "source": [
    "df1.op_status = le.fit_transform(df1.op_status)\n",
    "df1.domain = le.fit_transform(df1.domain)\n",
    "df1.founded_on = le.fit_transform(df1.founded_on)\n",
    "df1.hq_country_code = le.fit_transform(df1.hq_country_code)\n",
    "df1.hq_state_code = le.fit_transform(df1.hq_state_code)\n",
    "df1.hq_region = le.fit_transform(df1.hq_region)\n",
    "df1.hq_city = le.fit_transform(df1.hq_city)"
   ]
  },
  {
   "cell_type": "code",
   "execution_count": 286,
   "metadata": {},
   "outputs": [],
   "source": [
    "df1_test.op_status = le.fit_transform(df1_test.op_status)\n",
    "df1_test.domain = le.fit_transform(df1_test.domain)\n",
    "df1_test.founded_on = le.fit_transform(df1_test.founded_on)\n",
    "df1_test.hq_country_code = le.fit_transform(df1_test.hq_country_code)\n",
    "df1_test.hq_state_code = le.fit_transform(df1_test.hq_state_code)\n",
    "df1_test.hq_region = le.fit_transform(df1_test.hq_region)\n",
    "df1_test.hq_city = le.fit_transform(df1_test.hq_city)"
   ]
  },
  {
   "cell_type": "code",
   "execution_count": 287,
   "metadata": {},
   "outputs": [
    {
     "data": {
      "text/plain": [
       "(22987, 15)"
      ]
     },
     "execution_count": 287,
     "metadata": {},
     "output_type": "execute_result"
    }
   ],
   "source": [
    "arr = df1.values\n",
    "arr.shape"
   ]
  },
  {
   "cell_type": "code",
   "execution_count": 288,
   "metadata": {},
   "outputs": [
    {
     "data": {
      "text/plain": [
       "(2521, 14)"
      ]
     },
     "execution_count": 288,
     "metadata": {},
     "output_type": "execute_result"
    }
   ],
   "source": [
    "arr2 = df1_test.values\n",
    "arr2.shape"
   ]
  },
  {
   "cell_type": "code",
   "execution_count": 289,
   "metadata": {},
   "outputs": [
    {
     "name": "stdout",
     "output_type": "stream",
     "text": [
      "(22987, 15) (2521, 14)\n"
     ]
    }
   ],
   "source": [
    "print(df1.shape, df1_test.shape)"
   ]
  },
  {
   "cell_type": "code",
   "execution_count": 290,
   "metadata": {},
   "outputs": [],
   "source": [
    "X = arr[:, :14]\n",
    "Y = arr[:,14]"
   ]
  },
  {
   "cell_type": "code",
   "execution_count": 291,
   "metadata": {},
   "outputs": [
    {
     "data": {
      "text/plain": [
       "((22987, 14), (2521, 14), (22987,))"
      ]
     },
     "execution_count": 291,
     "metadata": {},
     "output_type": "execute_result"
    }
   ],
   "source": [
    "XTest = arr2\n",
    "X.shape, XTest.shape, Y.shape"
   ]
  },
  {
   "cell_type": "code",
   "execution_count": 292,
   "metadata": {},
   "outputs": [],
   "source": [
    "from sklearn.preprocessing import OneHotEncoder\n",
    "ohe = OneHotEncoder(categorical_features=[[1,2,3,4,5,6,7]])"
   ]
  },
  {
   "cell_type": "code",
   "execution_count": 297,
   "metadata": {},
   "outputs": [
    {
     "name": "stderr",
     "output_type": "stream",
     "text": [
      "/home/sammynerd/anaconda3/lib/python3.6/site-packages/sklearn/preprocessing/_encoders.py:368: FutureWarning: The handling of integer data will change in version 0.22. Currently, the categories are determined based on the range [0, max(values)], while in the future they will be determined based on the unique values.\n",
      "If you want the future behaviour and silence this warning, you can specify \"categories='auto'\".\n",
      "In case you used a LabelEncoder before this OneHotEncoder to convert the categories to integers, then you can now use the OneHotEncoder directly.\n",
      "  warnings.warn(msg, FutureWarning)\n",
      "/home/sammynerd/anaconda3/lib/python3.6/site-packages/sklearn/preprocessing/_encoders.py:390: DeprecationWarning: The 'categorical_features' keyword is deprecated in version 0.20 and will be removed in 0.22. You can use the ColumnTransformer instead.\n",
      "  \"use the ColumnTransformer instead.\", DeprecationWarning)\n"
     ]
    }
   ],
   "source": [
    "X = ohe.fit_transform(X)\n",
    "XTest = ohe.transform(XTest)"
   ]
  },
  {
   "cell_type": "code",
   "execution_count": 298,
   "metadata": {},
   "outputs": [
    {
     "data": {
      "text/plain": [
       "((22987, 17794), (2521, 17794))"
      ]
     },
     "execution_count": 298,
     "metadata": {},
     "output_type": "execute_result"
    }
   ],
   "source": [
    "X.shape, XTest.shape"
   ]
  },
  {
   "cell_type": "code",
   "execution_count": 299,
   "metadata": {},
   "outputs": [],
   "source": [
    "from sklearn import model_selection\n",
    "X_train, X_test, Y_train, Y_test = model_selection.train_test_split(X,Y,random_state=0)"
   ]
  },
  {
   "cell_type": "code",
   "execution_count": 300,
   "metadata": {},
   "outputs": [
    {
     "data": {
      "text/plain": [
       "((17240, 17794), (5747, 17794))"
      ]
     },
     "execution_count": 300,
     "metadata": {},
     "output_type": "execute_result"
    }
   ],
   "source": [
    "X_train.shape, X_test.shape"
   ]
  },
  {
   "cell_type": "code",
   "execution_count": 301,
   "metadata": {},
   "outputs": [
    {
     "name": "stderr",
     "output_type": "stream",
     "text": [
      "/home/sammynerd/anaconda3/lib/python3.6/site-packages/sklearn/linear_model/logistic.py:433: FutureWarning: Default solver will be changed to 'lbfgs' in 0.22. Specify a solver to silence this warning.\n",
      "  FutureWarning)\n"
     ]
    },
    {
     "data": {
      "text/plain": [
       "0.843677494199536"
      ]
     },
     "execution_count": 301,
     "metadata": {},
     "output_type": "execute_result"
    }
   ],
   "source": [
    "from sklearn.linear_model import LogisticRegression\n",
    "clf = LogisticRegression()\n",
    "clf.fit(X_train, Y_train)\n",
    "clf.score(X_train, Y_train)"
   ]
  },
  {
   "cell_type": "code",
   "execution_count": 302,
   "metadata": {},
   "outputs": [
    {
     "data": {
      "text/plain": [
       "0.8447885853488777"
      ]
     },
     "execution_count": 302,
     "metadata": {},
     "output_type": "execute_result"
    }
   ],
   "source": [
    "Y_pred = clf.predict(X_test)\n",
    "clf.score(X_test, Y_test)"
   ]
  },
  {
   "cell_type": "code",
   "execution_count": 317,
   "metadata": {},
   "outputs": [
    {
     "data": {
      "text/plain": [
       "(2521, 17794)"
      ]
     },
     "execution_count": 317,
     "metadata": {},
     "output_type": "execute_result"
    }
   ],
   "source": [
    "YTest_pred = clf.predict(XTest)\n",
    "XTest.shape"
   ]
  },
  {
   "cell_type": "code",
   "execution_count": 319,
   "metadata": {},
   "outputs": [
    {
     "name": "stdout",
     "output_type": "stream",
     "text": [
      "(2521,)\n",
      "7.0\n"
     ]
    }
   ],
   "source": [
    "print(YTest_pred.shape)\n",
    "print(YTest_pred.sum())"
   ]
  }
 ],
 "metadata": {
  "kernelspec": {
   "display_name": "Python 3",
   "language": "python",
   "name": "python3"
  },
  "language_info": {
   "codemirror_mode": {
    "name": "ipython",
    "version": 3
   },
   "file_extension": ".py",
   "mimetype": "text/x-python",
   "name": "python",
   "nbconvert_exporter": "python",
   "pygments_lexer": "ipython3",
   "version": "3.6.8"
  }
 },
 "nbformat": 4,
 "nbformat_minor": 2
}
